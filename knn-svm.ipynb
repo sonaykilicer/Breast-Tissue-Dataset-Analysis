{
  "cells": [
    {
      "cell_type": "markdown",
      "metadata": {
        "id": "gekGpyw89i5F"
      },
      "source": []
    },
    {
      "cell_type": "markdown",
      "metadata": {
        "id": "5Q5GnkN89kVa"
      },
      "source": [
        "İlk hücredeki kod çalıştırıldıktan sonra csv dosyası dosya seç ile upload edilmelidir."
      ]
    },
    {
      "cell_type": "code",
      "execution_count": null,
      "metadata": {
        "id": "rZ_sf8IdtSad"
      },
      "outputs": [],
      "source": [
        "#Sonay Kılıçer \n",
        "#import libraries\n",
        "import sys\n",
        "import numpy as np\n",
        "import matplotlib\n",
        "import matplotlib.pyplot as plt\n",
        "import pandas as pd\n",
        "import sklearn\n",
        "\n",
        "from sklearn import preprocessing\n",
        "from sklearn.model_selection import train_test_split, KFold, cross_val_score\n",
        "from sklearn.neighbors import KNeighborsClassifier\n",
        "from sklearn.svm import SVC\n",
        "from sklearn.metrics import classification_report, accuracy_score\n",
        "from pandas.plotting import scatter_matrix\n",
        "\n",
        "\n",
        "#BreastTissue.csv dosyasını upload et ve oku\n",
        "from google.colab import files\n",
        "uploaded = files.upload()\n",
        "import io\n",
        "df = pd.read_csv(io.BytesIO(uploaded['BreastTissue.csv']))\n",
        "\n",
        "#okunan verinin istatistiksel özelliklerini yazdırır.\n",
        "print(df.describe())"
      ]
    },
    {
      "cell_type": "code",
      "execution_count": null,
      "metadata": {
        "id": "3tcS_e79tcgm"
      },
      "outputs": [],
      "source": [
        "#show data histogram - her özniteliği çizdir\n",
        "df.hist(figsize=(11, 11));"
      ]
    },
    {
      "cell_type": "code",
      "execution_count": null,
      "metadata": {
        "id": "o-NvnHoZtdm2"
      },
      "outputs": [],
      "source": [
        "# split train input and output data\n",
        "#ilk 2 kolonu at.  Veri setlerinde sıra numarası ve sınıf değerleri de vektör olarak verilmiştir.\n",
        "X = df.drop(axis=0, columns=['Class', 'Case #'])\n",
        "Y = df.Class\n",
        "\n",
        "#Print the shape of X and Y\n",
        "print(X.shape)\n",
        "print(Y.shape)"
      ]
    },
    {
      "cell_type": "code",
      "execution_count": null,
      "metadata": {
        "id": "NSPFnx5Atjxv"
      },
      "outputs": [],
      "source": [
        "from sklearn.metrics import make_scorer, accuracy_score, precision_score, recall_score, f1_score\n",
        "\n",
        "seed=8\n",
        "scoring = 'accuracy'\n",
        "\n",
        "#models adında dizi oluştur ve içine knn ve svm ekle\n",
        "models = []\n",
        "models.append(('KNN7', KNeighborsClassifier(n_neighbors=7)))\n",
        "models.append(('KNN3', KNeighborsClassifier(n_neighbors=3)))\n",
        "models.append(('SVM1', SVC())) #default rbf\n",
        "models.append(('SVM2', SVC(kernel = 'linear',C=0.01)))\n",
        "\n",
        "\n",
        "#her modeli çalıştır ve sonucunu yaz.\n",
        "results = []\n",
        "names = []\n",
        "\n",
        "\n",
        "from sklearn.preprocessing import LabelBinarizer\n",
        "\n",
        "lb = LabelBinarizer()\n",
        "Y = np.array([number[0] for number in lb.fit_transform(Y)])\n",
        "\n",
        "for name, model in models:\n",
        "    kfold = KFold(n_splits=4, random_state=seed, shuffle=True)\n",
        "    cv_results = cross_val_score(model, X, Y, cv=kfold, scoring=scoring)\n",
        "    precision = cross_val_score(model, X, Y, cv=kfold, scoring='precision')\n",
        "    recall = cross_val_score(model, X, Y, cv=kfold, scoring='recall')\n",
        "    f1 = cross_val_score(model, X, Y, cv=kfold, scoring='f1')\n",
        "    results.append(cv_results)\n",
        "    results.append(precision)\n",
        "    results.append(recall)\n",
        "    results.append(f1)\n",
        "    names.append(name)\n",
        "    msg = \" accuracy %s: %f (%f)\" % (name, cv_results.mean(), cv_results.std())\n",
        "    print(msg)\n",
        "    msg = \" precision %s: %f (%f)\" % (name, precision.mean(), precision.std())\n",
        "    print(msg)\n",
        "    msg = \" recall %s: %f (%f)\" % (name, recall.mean(), recall.std())\n",
        "    print(msg)\n",
        "    msg = \" f1 %s: %f (%f)\" % (name, f1.mean(), f1.std())\n",
        "    print(msg)\n",
        "    "
      ]
    },
    {
      "cell_type": "code",
      "execution_count": null,
      "metadata": {
        "id": "_rTBGqIstpr0"
      },
      "outputs": [],
      "source": [
        "#simdi datada z-score normalizasyon yapıyoruz\n",
        "\n",
        "#buradaki kodda normalizasyon var, gerisi yukarıdaki kodun aynısı\n",
        "from sklearn.preprocessing import StandardScaler\n",
        "from sklearn.compose import ColumnTransformer\n",
        "\n",
        "#kolon adlarını yaz\n",
        "col_names=[\"I0\",\"PA500\",\"HFS\",\"DA\",\"Area\",\"A/DA\",\"Max IP\",\"DR\",\"P\"]\n",
        "features = df[col_names]\n",
        "\n",
        "scaler = StandardScaler().fit(features.values)\n",
        "features = scaler.transform(features.values)\n",
        "scaled_features = pd.DataFrame(features, columns = col_names)\n",
        "\n",
        "scaled_features.describe()\n",
        "print(df.shape)\n",
        "\n",
        "X = scaled_features\n",
        "Y = df.Class\n",
        "\n",
        "\n",
        "#1den 16ya kadar olan kodlar datayı z score normalization yapıyor. bundan sonraki kodlar yukarıdakinin aynısı. hiç fark yok. sadece data z score normalize edilmiş\n",
        "\n",
        "#veriyi train ve test olarak ayır\n",
        "\n",
        "\n",
        "\n",
        "#models adında dizi oluştur ve içine knn ve svm ekle\n",
        "models = []\n",
        "models.append(('KNN7', KNeighborsClassifier(n_neighbors=7)))\n",
        "models.append(('KNN3', KNeighborsClassifier(n_neighbors=3)))\n",
        "models.append(('SVM1', SVC())) #default rbf\n",
        "models.append(('SVM2', SVC(kernel = 'linear',C=0.01)))\n",
        "\n",
        "\n",
        "# Evaluate each model in turn. her modeli çalıştır ve sonucunu yaz\n",
        "results = []\n",
        "names = []\n",
        "\n",
        "\n",
        "from sklearn.preprocessing import LabelBinarizer\n",
        "\n",
        "lb = LabelBinarizer()\n",
        "Y = np.array([number[0] for number in lb.fit_transform(Y)])\n",
        "\n",
        "for name, model in models:\n",
        "    kfold = KFold(n_splits=4, random_state=seed, shuffle=True)\n",
        "    cv_results = cross_val_score(model, X, Y, cv=kfold, scoring='accuracy')\n",
        "    precision = cross_val_score(model, X, Y, cv=kfold, scoring='precision')\n",
        "    recall = cross_val_score(model, X, Y, cv=kfold, scoring='recall')\n",
        "    f1 = cross_val_score(model, X, Y, cv=kfold, scoring='f1')\n",
        "    results.append(cv_results)\n",
        "    results.append(precision)\n",
        "    results.append(recall)\n",
        "    results.append(f1)\n",
        "    names.append(name)\n",
        "    msg = \" accuracy %s: %f (%f)\" % (name, cv_results.mean(), cv_results.std())\n",
        "    print(msg)\n",
        "    msg = \" precision %s: %f (%f)\" % (name, precision.mean(), precision.std())\n",
        "    print(msg)\n",
        "    msg = \" recall %s: %f (%f)\" % (name, recall.mean(), recall.std())\n",
        "    print(msg)\n",
        "    msg = \" f1 %s: %f (%f)\" % (name, f1.mean(), f1.std())\n",
        "    print(msg)"
      ]
    },
    {
      "cell_type": "code",
      "execution_count": null,
      "metadata": {
        "id": "XDNFbZWNtwqg"
      },
      "outputs": [],
      "source": []
    }
  ],
  "metadata": {
    "colab": {
      "collapsed_sections": [],
      "name": "Grup_2.ipynb",
      "provenance": []
    },
    "kernelspec": {
      "display_name": "Python 3",
      "name": "python3"
    },
    "language_info": {
      "name": "python"
    }
  },
  "nbformat": 4,
  "nbformat_minor": 0
}
